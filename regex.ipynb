{
 "cells": [
  {
   "cell_type": "code",
   "execution_count": 21,
   "metadata": {},
   "outputs": [
    {
     "data": {
      "text/plain": [
       "['Tuba', 'Maya', 'Liza', 'Lily']"
      ]
     },
     "execution_count": 21,
     "metadata": {},
     "output_type": "execute_result"
    }
   ],
   "source": [
    "#this problem is about finding out all names in the string\n",
    "\n",
    "import re\n",
    "text = \"Tuba is Maya. Liza is Lily.\"\n",
    "pattern = '[A-Z][\\w]*(?=\\W|\\s)'\n",
    "re.findall(pattern,text)"
   ]
  },
  {
   "cell_type": "code",
   "execution_count": 129,
   "metadata": {},
   "outputs": [
    {
     "data": {
      "text/plain": [
       "['Amy', 'B', 'Mary', 'Ruth', 'Peter', 'B', 'B']"
      ]
     },
     "execution_count": 129,
     "metadata": {},
     "output_type": "execute_result"
    }
   ],
   "source": [
    "#this problem is about finding out all names in the string\n",
    "\n",
    "text = \"Amy is : B 5 years old, and her sister Mary is 2 years old. Ruth and Peter, B their parents, have 3 kids. : B \"\n",
    "pattern = '[A-Z][\\w]*'\n",
    "\n",
    "re.findall(pattern,text)"
   ]
  },
  {
   "cell_type": "code",
   "execution_count": 1,
   "metadata": {},
   "outputs": [
    {
     "data": {
      "text/plain": [
       "3"
      ]
     },
     "execution_count": 1,
     "metadata": {},
     "output_type": "execute_result"
    }
   ],
   "source": [
    "#this problem is about finding out all 'B' in the string\n",
    "import re\n",
    "text = \"\"\"Ronald Mayr: A\n",
    "Bell Kassulke: B\n",
    "Jacqueline Rupp: A \n",
    "Alexander Zeller: C\n",
    "Valentina Denk: C \n",
    "Simon Loidl: B \n",
    "Elias Jovanovic: B \"\"\"\n",
    "    \n",
    "pattern = ': [B]*(?=\\s)'\n",
    "len(re.findall(pattern,text))"
   ]
  },
  {
   "cell_type": "code",
   "execution_count": 130,
   "metadata": {},
   "outputs": [
    {
     "data": {
      "text/plain": [
       "['Bell KassJacqueline Rupp',\n",
       " '',\n",
       " ' A Alexander Zeller',\n",
       " '',\n",
       " ' C Valentina Denk',\n",
       " '',\n",
       " ' C Simon Loidl',\n",
       " '',\n",
       " ' B Elias Jovanovic',\n",
       " '',\n",
       " ' B Stefanie Weninger',\n",
       " '']"
      ]
     },
     "execution_count": 130,
     "metadata": {},
     "output_type": "execute_result"
    }
   ],
   "source": [
    "text = \"Bell KassJacqueline Rupp: A Alexander Zeller: C Valentina Denk: C Simon Loidl: B Elias Jovanovic: B Stefanie Weninger: A \"\n",
    "    \n",
    "pattern = '[ \\w]*(?=\\: )'\n",
    "re.findall(pattern,text)"
   ]
  },
  {
   "cell_type": "code",
   "execution_count": 7,
   "metadata": {},
   "outputs": [
    {
     "data": {
      "text/plain": [
       "19"
      ]
     },
     "execution_count": 7,
     "metadata": {},
     "output_type": "execute_result"
    }
   ],
   "source": [
    "#this problem is about finding out all 'B' in the string\n",
    "\n",
    "text = \"\"\"Ronald Mayr: A\n",
    "Bell Kassulke: B\n",
    "Jacqueline Rupp: A \n",
    "Alexander Zeller: C\n",
    "Valentina Denk: C \n",
    "Simon Loidl: B \n",
    "Elias Jovanovic: B \n",
    "Stefanie Weninger: A \n",
    "Fabian Peer: C \n",
    "Hakim Botros: B\n",
    "Emilie Lorentsen: B\n",
    "Herman Karlsen: C\n",
    "Nathalie Delacruz: C\n",
    "Casey Hartman: C\n",
    "Lily Walker : A\n",
    "Gerard Wang: C\n",
    "Tony Mcdowell: C\n",
    "Jake Wood: B\n",
    "Fatemeh Akhtar: B\n",
    "Kim Weston: B\n",
    "Nicholas Beatty: A\n",
    "Kirsten Williams: C\n",
    "Vaishali Surana: C\n",
    "oby Mccormack: C\n",
    "Yasmin Dar: B\n",
    "Romy Donnelly: A\n",
    "Viswamitra Upandhye: B\n",
    "Bendrick Hilpert: A\n",
    "Killian Kaufman: B\n",
    "Elwood Page: B\n",
    "Mukti Patel: A\n",
    "Emily Lesch: B\n",
    "Elodie Booker: B\n",
    "Jedd Kim: A\n",
    "Annabel Davies: A\n",
    "Adnan Chen: B\n",
    "Jonathan Berg: C\n",
    "Hank Spinka: B\n",
    "Bgnes Schneider: B\n",
    "Kimberly Green: A\n",
    "Lola-Rose Coates: C\n",
    "Rose Christiansen: C\n",
    "Shirley Hintz: B\n",
    "Hannah Bayer: B\"\"\"\n",
    "\n",
    "#pattern = '[A-Z][\\w ]*(?=: [B])'\n",
    "pattern = ': [B]*(?=\\n|[B])'\n",
    "len(re.findall(pattern,text))"
   ]
  },
  {
   "cell_type": "code",
   "execution_count": 119,
   "metadata": {},
   "outputs": [
    {
     "data": {
      "text/plain": [
       "['hhhhkkkkk', '', 'iiiio', '', 'hhhh', '']"
      ]
     },
     "execution_count": 119,
     "metadata": {},
     "output_type": "execute_result"
    }
   ],
   "source": [
    "text = \"hhhhkkkkk iiiio hhhh \"\n",
    "pattern = '[\\w]*(?=\\s)'\n",
    "\n",
    "re.findall(pattern,text)\n"
   ]
  },
  {
   "cell_type": "code",
   "execution_count": 121,
   "metadata": {},
   "outputs": [
    {
     "data": {
      "text/plain": [
       "['Tuba', '', 'is', '', 'Maya', '', '', 'Liza', '', 'is', '', 'Lily', '']"
      ]
     },
     "execution_count": 121,
     "metadata": {},
     "output_type": "execute_result"
    }
   ],
   "source": [
    "import re\n",
    "text = \"Tuba is Maya. Liza is Lily \"\n",
    "pattern = '[A-Z][\\w]*(?=\\W|\\s)'\n",
    "re.findall(pattern,text)"
   ]
  },
  {
   "cell_type": "code",
   "execution_count": 128,
   "metadata": {},
   "outputs": [
    {
     "data": {
      "text/plain": [
       "['1', '2', '3']"
      ]
     },
     "execution_count": 128,
     "metadata": {},
     "output_type": "execute_result"
    }
   ],
   "source": [
    "#this problem is about finding all digits[0-9] in the string\n",
    "\n",
    "s = 'tuba123tuba'\n",
    "re.findall('[0-9]',s)"
   ]
  },
  {
   "cell_type": "code",
   "execution_count": 136,
   "metadata": {},
   "outputs": [
    {
     "name": "stdout",
     "output_type": "stream",
     "text": [
      "matched.found 1(the first one) digit in the string\n"
     ]
    }
   ],
   "source": [
    "#this problem is about searching single digit[0-9] in the string\n",
    "\n",
    "\n",
    "s = 'tuba023tuba'\n",
    "if re.search('[0-9]',s):\n",
    "    \n",
    "    print(\"matched.found 1(the first one) digit in the string\")"
   ]
  },
  {
   "cell_type": "code",
   "execution_count": 137,
   "metadata": {},
   "outputs": [
    {
     "name": "stdout",
     "output_type": "stream",
     "text": [
      "found 3 consecutive digits in the string. 1,2,3\n"
     ]
    }
   ],
   "source": [
    "#this problem is about searching three consecutive digits[0-9] in the string\n",
    "\n",
    "s = 'tuba123tuba'\n",
    "if re.search('[0-9][0-9][0-9]',s):\n",
    "    print(\"found 3 consecutive digits in the string. 1,2,3\")"
   ]
  },
  {
   "cell_type": "code",
   "execution_count": 138,
   "metadata": {},
   "outputs": [
    {
     "name": "stdout",
     "output_type": "stream",
     "text": [
      "digits are not consecutive here. it should be 123tuba. but found 12tuba3\n"
     ]
    }
   ],
   "source": [
    "s = 'tuba12tuba3'\n",
    "if re.search('[0-9][0-9][0-9]',s):\n",
    "    print(\"found 3 consecutive digits in the string. 1,2,3\")\n",
    "else:\n",
    "    print(\"digits are not consecutive here. it should be 123tuba. but found 12tuba3\")"
   ]
  },
  {
   "cell_type": "code",
   "execution_count": 142,
   "metadata": {},
   "outputs": [
    {
     "data": {
      "text/plain": [
       "<re.Match object; span=(0, 5), match='tuba1'>"
      ]
     },
     "execution_count": 142,
     "metadata": {},
     "output_type": "execute_result"
    }
   ],
   "source": [
    "#it searhes either tuba1,tuba4,tuba5 and finally gets tuba1\n",
    "\n",
    "s = 'tuba123tuba'\n",
    "re.search('tuba[145]',s)"
   ]
  },
  {
   "cell_type": "code",
   "execution_count": 144,
   "metadata": {},
   "outputs": [
    {
     "data": {
      "text/plain": [
       "<re.Match object; span=(0, 5), match='tuba1'>"
      ]
     },
     "execution_count": 144,
     "metadata": {},
     "output_type": "execute_result"
    }
   ],
   "source": [
    "s = 'tuba123tuba'\n",
    "re.search('tuba[451]',s)"
   ]
  },
  {
   "cell_type": "code",
   "execution_count": 145,
   "metadata": {},
   "outputs": [
    {
     "data": {
      "text/plain": [
       "<re.Match object; span=(0, 1), match='t'>"
      ]
     },
     "execution_count": 145,
     "metadata": {},
     "output_type": "execute_result"
    }
   ],
   "source": [
    "s = 'tuba123tuba'\n",
    "re.search('[a-z]',s)  #matches the single character that is netween a and z"
   ]
  },
  {
   "cell_type": "code",
   "execution_count": 146,
   "metadata": {},
   "outputs": [
    {
     "data": {
      "text/plain": [
       "<re.Match object; span=(0, 3), match='tub'>"
      ]
     },
     "execution_count": 146,
     "metadata": {},
     "output_type": "execute_result"
    }
   ],
   "source": [
    "s = 'tuba123tuba'\n",
    "re.search('[a-z][a-z][a-z]',s)"
   ]
  },
  {
   "cell_type": "code",
   "execution_count": 147,
   "metadata": {},
   "outputs": [
    {
     "data": {
      "text/plain": [
       "<re.Match object; span=(4, 5), match='1'>"
      ]
     },
     "execution_count": 147,
     "metadata": {},
     "output_type": "execute_result"
    }
   ],
   "source": [
    "s = 'tuba123tuba'\n",
    "re.search('[0-9]',s)  #matches the single character that is  a number"
   ]
  },
  {
   "cell_type": "code",
   "execution_count": 148,
   "metadata": {},
   "outputs": [
    {
     "data": {
      "text/plain": [
       "<re.Match object; span=(0, 1), match='t'>"
      ]
     },
     "execution_count": 148,
     "metadata": {},
     "output_type": "execute_result"
    }
   ],
   "source": [
    "s = 'tuba123tuba'\n",
    "re.search('[^0-9]',s)\n",
    "\n",
    "#matches the single character that is not a number.\n",
    "#If a ^ character appears in a character class but isn’t the first character,\n",
    "#then it has no special meaning and matches a literal '^' character:"
   ]
  },
  {
   "cell_type": "code",
   "execution_count": 154,
   "metadata": {},
   "outputs": [
    {
     "data": {
      "text/plain": [
       "<re.Match object; span=(2, 3), match='-'>"
      ]
     },
     "execution_count": 154,
     "metadata": {},
     "output_type": "execute_result"
    }
   ],
   "source": [
    "re.search('[-abc]','lk-a')"
   ]
  },
  {
   "cell_type": "code",
   "execution_count": 155,
   "metadata": {},
   "outputs": [
    {
     "data": {
      "text/plain": [
       "<re.Match object; span=(0, 1), match='b'>"
      ]
     },
     "execution_count": 155,
     "metadata": {},
     "output_type": "execute_result"
    }
   ],
   "source": [
    "re.search('[-abc]','blk-a')"
   ]
  },
  {
   "cell_type": "code",
   "execution_count": 160,
   "metadata": {},
   "outputs": [
    {
     "data": {
      "text/plain": [
       "<re.Match object; span=(2, 3), match=']'>"
      ]
     },
     "execution_count": 160,
     "metadata": {},
     "output_type": "execute_result"
    }
   ],
   "source": [
    "re.search('[ab\\]cd]','[1]blk-a')"
   ]
  },
  {
   "cell_type": "code",
   "execution_count": 163,
   "metadata": {},
   "outputs": [
    {
     "data": {
      "text/plain": [
       "<re.Match object; span=(2, 3), match=']'>"
      ]
     },
     "execution_count": 163,
     "metadata": {},
     "output_type": "execute_result"
    }
   ],
   "source": [
    "re.search('[]]','[1]blk-a')"
   ]
  },
  {
   "cell_type": "code",
   "execution_count": 169,
   "metadata": {},
   "outputs": [],
   "source": [
    "re.search(\"tuba.tuba\",'tuba1tuba')\n",
    "\n",
    "#As a regex, tuba.tuba essentially means the characters 'tuba', \n",
    "#then any character except newline, then the characters 'tuba'. The first string shown above, 'tuba1tuba', \n",
    "#fits the bill because the . metacharacter matches the '1'."
   ]
  },
  {
   "cell_type": "code",
   "execution_count": 168,
   "metadata": {},
   "outputs": [],
   "source": [
    "re.search(\"tuba.tuba\",'tubatuba') #not matched"
   ]
  },
  {
   "cell_type": "code",
   "execution_count": 171,
   "metadata": {},
   "outputs": [
    {
     "data": {
      "text/plain": [
       "<re.Match object; span=(3, 4), match='K'>"
      ]
     },
     "execution_count": 171,
     "metadata": {},
     "output_type": "execute_result"
    }
   ],
   "source": [
    "#\\w matches any alphanumeric word character. Word characters are uppercase and lowercase letters, digits, and the underscore (_)\n",
    "#character, so \\w is essentially shorthand for [a-zA-Z0-9_]:\n",
    "\n",
    "re.search(\"\\w\",'@#!Kubatuba')"
   ]
  },
  {
   "cell_type": "code",
   "execution_count": 174,
   "metadata": {},
   "outputs": [
    {
     "data": {
      "text/plain": [
       "<re.Match object; span=(0, 1), match='@'>"
      ]
     },
     "execution_count": 174,
     "metadata": {},
     "output_type": "execute_result"
    }
   ],
   "source": [
    "#\\W is the opposite. It matches any non-word character and is equivalent to [^a-zA-Z0-9_]:\n",
    "\n",
    "\n",
    "re.search(\"\\W\",'@#!Kubatuba')\n"
   ]
  },
  {
   "cell_type": "code",
   "execution_count": 175,
   "metadata": {},
   "outputs": [
    {
     "data": {
      "text/plain": [
       "<re.Match object; span=(5, 6), match='1'>"
      ]
     },
     "execution_count": 175,
     "metadata": {},
     "output_type": "execute_result"
    }
   ],
   "source": [
    "#\\d matches any decimal digit character. \\D is the opposite. It matches any character that isn’t a decimal digit:\n",
    "#\\d is essentially equivalent to [0-9], and \\D is equivalent to [^0-9].\n",
    "\n",
    "re.search(\"\\d\",'nhhjj123')\n"
   ]
  },
  {
   "cell_type": "code",
   "execution_count": 176,
   "metadata": {},
   "outputs": [
    {
     "data": {
      "text/plain": [
       "<re.Match object; span=(0, 1), match='@'>"
      ]
     },
     "execution_count": 176,
     "metadata": {},
     "output_type": "execute_result"
    }
   ],
   "source": [
    "re.search(\"\\D\",'@#!Kubatuba')\n"
   ]
  },
  {
   "cell_type": "code",
   "execution_count": 177,
   "metadata": {},
   "outputs": [
    {
     "data": {
      "text/plain": [
       "<re.Match object; span=(3, 4), match=' '>"
      ]
     },
     "execution_count": 177,
     "metadata": {},
     "output_type": "execute_result"
    }
   ],
   "source": [
    "#\\s matches any whitespace character:\n",
    "#Note that, unlike the dot wildcard metacharacter, \\s does match a newline character.\n",
    "\n",
    "re.search(\"\\s\",'nhh  jj123')\n"
   ]
  },
  {
   "cell_type": "code",
   "execution_count": 178,
   "metadata": {},
   "outputs": [
    {
     "data": {
      "text/plain": [
       "<re.Match object; span=(3, 4), match='\\n'>"
      ]
     },
     "execution_count": 178,
     "metadata": {},
     "output_type": "execute_result"
    }
   ],
   "source": [
    "re.search(\"\\s\",'nhh\\n  jj123')"
   ]
  },
  {
   "cell_type": "code",
   "execution_count": 181,
   "metadata": {},
   "outputs": [
    {
     "data": {
      "text/plain": [
       "<re.Match object; span=(0, 1), match='v'>"
      ]
     },
     "execution_count": 181,
     "metadata": {},
     "output_type": "execute_result"
    }
   ],
   "source": [
    "#\\S is the opposite of \\s. It matches any character that isn’t whitespace:\n",
    "\n",
    "re.search(\"\\S\",'vhh\\n  jj123')"
   ]
  },
  {
   "cell_type": "code",
   "execution_count": 184,
   "metadata": {},
   "outputs": [
    {
     "data": {
      "text/plain": [
       "<re.Match object; span=(0, 1), match='7'>"
      ]
     },
     "execution_count": 184,
     "metadata": {},
     "output_type": "execute_result"
    }
   ],
   "source": [
    "#The character class sequences \\w, \\W, \\d, \\D, \\s, and \\S can appear inside a square bracket character class as well:\n",
    "#In this case, [\\d\\w\\s] matches any digit, word, or whitespace character. \n",
    "\n",
    "re.search('[\\s\\d\\w]','7jed 45')"
   ]
  },
  {
   "cell_type": "code",
   "execution_count": 187,
   "metadata": {},
   "outputs": [
    {
     "name": "stdout",
     "output_type": "stream",
     "text": [
      "<re.Match object; span=(0, 1), match='t'>\n",
      "<re.Match object; span=(4, 5), match='.'>\n"
     ]
    }
   ],
   "source": [
    "#Occasionally, you’ll want to include a metacharacter in your regex, except you won’t want it to carry its special meaning.\n",
    "#Instead, you’ll want it to represent itself as a literal character.\n",
    "#A metacharacter preceded by a backslash loses its special meaning and matches the literal character instead.\n",
    "#Consider the following examples:\n",
    "\n",
    "print(re.search('.','tuba'))\n",
    "print(re.search('\\.','tuba.'))"
   ]
  },
  {
   "cell_type": "code",
   "execution_count": 194,
   "metadata": {},
   "outputs": [
    {
     "name": "stdout",
     "output_type": "stream",
     "text": [
      "<re.Match object; span=(2, 3), match='\\\\'>\n",
      "<re.Match object; span=(2, 3), match='\\\\'>\n"
     ]
    }
   ],
   "source": [
    "#how to search '\\' on a string?\n",
    "s = r'tu\\ba'\n",
    "print(re.search('\\\\\\\\',s))\n",
    "\n",
    "#another way is:\n",
    "print(re.search(r'\\\\',s))  #good way"
   ]
  },
  {
   "cell_type": "code",
   "execution_count": 197,
   "metadata": {},
   "outputs": [
    {
     "name": "stdout",
     "output_type": "stream",
     "text": [
      "<re.Match object; span=(0, 2), match='tu'>\n",
      "<re.Match object; span=(0, 3), match='tub'>\n",
      "None\n"
     ]
    }
   ],
   "source": [
    "#ANCHOR\n",
    "\n",
    "#Anchors are zero-width matches. They don’t match any actual characters in the search string,\n",
    "#and they don’t consume any of the search string during parsing.\n",
    "#Instead, an anchor dictates a particular location in the search string where a match must occur.\n",
    "\n",
    "#regex \\Afoo or ^foo stipulates that 'foo' must be present not just any old place in the search string, but at the beginning:\n",
    "s='tuba123'\n",
    "print(re.search('^tu',s))\n",
    "print(re.search('\\Atub',s))\n",
    "print(re.search('\\A123',s))"
   ]
  },
  {
   "cell_type": "code",
   "execution_count": 201,
   "metadata": {},
   "outputs": [
    {
     "name": "stdout",
     "output_type": "stream",
     "text": [
      "<re.Match object; span=(6, 7), match='3'>\n",
      "<re.Match object; span=(5, 7), match='23'>\n",
      "None\n",
      "<re.Match object; span=(4, 7), match='123'>\n",
      "None\n"
     ]
    }
   ],
   "source": [
    "#$ or \\Z \n",
    "#When the regex parser encounters $ or \\Z, the parser’s current position must be at the end of the search string\n",
    "#for it to find a match.\n",
    "\n",
    "s='tuba123'\n",
    "print(re.search('3$',s))\n",
    "print(re.search('23\\Z',s))\n",
    "print(re.search('ba\\Z',s))\n",
    "\n",
    "#As a special case, $ (but not \\Z) also matches just before a single newline at the end of the search string:\n",
    "\n",
    "s='tuba123\\n'\n",
    "print(re.search('123$',s))\n",
    "print(re.search('123\\Z',s))"
   ]
  },
  {
   "cell_type": "code",
   "execution_count": 209,
   "metadata": {},
   "outputs": [
    {
     "name": "stdout",
     "output_type": "stream",
     "text": [
      "<re.Match object; span=(8, 12), match='moni'>\n",
      "<re.Match object; span=(8, 12), match='moni'>\n",
      "None\n",
      "<re.Match object; span=(0, 4), match='tuba'>\n",
      "<re.Match object; span=(5, 8), match='123'>\n"
     ]
    }
   ],
   "source": [
    "#\\b\n",
    "#\\b asserts that the regex parser’s current position must be at the beginning or end of a word.\n",
    "#A word consists of a sequence of alphanumeric characters or underscores ([a-zA-Z0-9_]), the same as for the \\w character class:\n",
    "s='tuba123 moni'\n",
    "print(re.search(r'\\bmoni',s))\n",
    "\n",
    "s='tuba123-moni'\n",
    "print(re.search(r'\\bmoni',s))\n",
    "s='tuba123moni'\n",
    "print(re.search(r'\\bmoni',s))\n",
    "s='tuba 123 moni'\n",
    "print(re.search(r'\\btuba',s))\n",
    "s='tuba 123 moni'\n",
    "print(re.search(r'\\b123\\b',s))"
   ]
  },
  {
   "cell_type": "code",
   "execution_count": 216,
   "metadata": {},
   "outputs": [
    {
     "name": "stdout",
     "output_type": "stream",
     "text": [
      "None\n",
      "None\n",
      "None\n"
     ]
    }
   ],
   "source": [
    "#\\B does the opposite of \\b. It asserts that the regex parser’s current position must not be at the start or end of a word:\n",
    "\n",
    "s='tuba 123 moni'\n",
    "print(re.search(r'\\Btuba',s))\n",
    "s='tuba 123 moni'\n",
    "print(re.search(r'\\Bmoni',s))\n",
    "s='tuba 123 moni hjn'\n",
    "print(re.search(r'\\B123',s))\n"
   ]
  },
  {
   "cell_type": "code",
   "execution_count": 222,
   "metadata": {},
   "outputs": [
    {
     "name": "stdout",
     "output_type": "stream",
     "text": [
      "<re.Match object; span=(0, 4), match='tuba'>\n",
      "<re.Match object; span=(0, 5), match='tuuba'>\n",
      "<re.Match object; span=(0, 4), match='tuba'>\n",
      "None\n"
     ]
    }
   ],
   "source": [
    "#Quantifiers\n",
    "\n",
    "#A quantifier metacharacter immediately follows a portion of a <regex> and indicates how many times that portion must occur\n",
    "#for the match to succeed.\n",
    "#For example, a* matches zero or more 'a' characters. That means it would match an empty string, 'a', 'aa', 'aaa', and so on.\n",
    "\n",
    "print(re.search('tu*ba','tuba')) #1 u between tu and ba there is 1 a.\n",
    "print(re.search('tu*ba','tuuba')) #2 u\n",
    "print(re.search('tua*ba','tuba')) #0 u between tu and ba there is no a.\n",
    "print(re.search('tu*ba','baba')) #0 u\n",
    "\n",
    "# .* matches any character sequence up to a line break. (Remember that the . wildcard metacharacter doesn’t match a newline.)\n",
    "#In this example, .* matches everything between 'foo' and 'bar':\n"
   ]
  },
  {
   "cell_type": "code",
   "execution_count": 225,
   "metadata": {},
   "outputs": [
    {
     "name": "stdout",
     "output_type": "stream",
     "text": [
      "None\n",
      "<re.Match object; span=(0, 6), match='tu11ba'>\n"
     ]
    }
   ],
   "source": [
    "# +  is similar to *, but the quantified regex must occur at least once:\n",
    "\n",
    "print(re.search('tul+ba','tuba')) # no l between tu and ba\n",
    "\n",
    "print(re.search('tu1+ba','tu11ba')) # two 1 between tu and ba\n",
    "\n",
    "#The + metacharacter requires at least one occurrence. "
   ]
  },
  {
   "cell_type": "code",
   "execution_count": 6,
   "metadata": {},
   "outputs": [
    {
     "name": "stdout",
     "output_type": "stream",
     "text": [
      "<re.Match object; span=(0, 4), match='tuba'>\n",
      "None\n",
      "<re.Match object; span=(0, 4), match='tuba'>\n"
     ]
    }
   ],
   "source": [
    "# ? Again, this is similar to * and +, but in this case there’s only a match if the preceding regex occurs once or not at all:\n",
    "import re\n",
    "print(re.search('tul?ba','tuba')) # no l between tu and ba\n",
    "print(re.search('tu1?ba','tu11ba')) # two 1 between tu and ba\n",
    "print(re.search('tu?ba','tuba')) #  1 u between t and ba"
   ]
  },
  {
   "cell_type": "code",
   "execution_count": 19,
   "metadata": {},
   "outputs": [
    {
     "name": "stdout",
     "output_type": "stream",
     "text": [
      "<re.Match object; span=(0, 21), match='<nms>lk+ <12hj> <foo>'>\n",
      "<re.Match object; span=(0, 5), match='<nms>'>\n",
      "<re.Match object; span=(0, 21), match='<nms>lk+ <12hj> <foo>'>\n",
      "<re.Match object; span=(0, 5), match='<nms>'>\n",
      "None\n",
      "<re.Match object; span=(0, 1), match='b'>\n"
     ]
    }
   ],
   "source": [
    "# *?\n",
    "# +?\n",
    "# ??\n",
    "\n",
    "# the non-greedy(or lazy )version of .,+ and ? quantifiers\n",
    "# When used alone, the quantifier metacharacters *, +, and ? are all greedy, meaning they produce the longest possible match.\n",
    "\n",
    "print(re.search('<.*>','<nms>lk+ <12hj> <foo>'))\n",
    "\n",
    "# The regex <.*> effectively means:\n",
    "# A '<' character\n",
    "# Then any sequence of characters\n",
    "# Then a '>' character\n",
    "# But which '>' character? There are three possibilities:\n",
    "# The one just after 'nms'\n",
    "# The one just after '12hj'\n",
    "# The one just after 'foo'\n",
    "# Since the * metacharacter is greedy, it dictates the longest possible match,\n",
    "# which includes everything up to and including the '>' character that follows 'foo'.\n",
    "# You can see from the match object that this is the match produced.\n",
    "# If you want the shortest possible match instead, then use the non-greedy metacharacter sequence *?:\n",
    "\n",
    "print(re.search('<.*?>','<nms>lk+ <12hj> <foo>'))\n",
    "\n",
    "# In this case, the match ends with the '>' character following 'nms'.\n",
    "# There are lazy versions of the + and ? quantifiers as well:\n",
    "\n",
    "print(re.search('<.+>','<nms>lk+ <12hj> <foo>'))\n",
    "print(re.search('<.+?>','<nms>lk+ <12hj> <foo>'))\n",
    "\n",
    "print(re.search('ba?','baaaa')) \n",
    "print(re.search('ba??','baaa'))\n",
    "\n",
    "# The last examples are a little different.\n",
    "# In general, the ? metacharacter matches zero or one occurrences of the preceding regex. \n",
    "# The greedy version, ?, matches one occurrence, so ba? matches 'b' followed by a single 'a'.\n",
    "# The non-greedy version, ??, matches zero occurrences, so ba?? matches just 'b'."
   ]
  },
  {
   "cell_type": "code",
   "execution_count": 22,
   "metadata": {},
   "outputs": [
    {
     "name": "stdout",
     "output_type": "stream",
     "text": [
      "<re.Match object; span=(0, 7), match='ba---ba'>\n",
      "<re.Match object; span=(0, 5), match='ba---'>\n",
      "None\n"
     ]
    }
   ],
   "source": [
    "# {m}\n",
    "# This is similar to * or +, but it specifies exactly how many times the preceding regex must occur for a match to succeed:\n",
    "# matches exactly m repeatations\n",
    "\n",
    "print(re.search('ba-{3}ba','ba---ba')) # exactly three dashes between ba and ba\n",
    "print(re.search('ba-{3}','ba---tuba')) # exactly three dashes after ba\n",
    "print(re.search('ba-{3}ba','ba-----ba')) # expected three dashes but got five dashes"
   ]
  },
  {
   "cell_type": "code",
   "execution_count": 25,
   "metadata": {},
   "outputs": [
    {
     "name": "stdout",
     "output_type": "stream",
     "text": [
      "<re.Match object; span=(0, 7), match='ba---ba'>\n",
      "<re.Match object; span=(0, 8), match='ba----ba'>\n",
      "None\n"
     ]
    }
   ],
   "source": [
    "# {m,n}\n",
    "# matches any number pf  repeatations from m to n inclusive\n",
    "\n",
    "print(re.search('ba-{1,3}ba','ba---ba'))\n",
    "print(re.search('ba-{3,6}ba','ba----ba'))\n",
    "print(re.search('ba-{4,7}ba','ba---ba'))"
   ]
  },
  {
   "cell_type": "code",
   "execution_count": 28,
   "metadata": {},
   "outputs": [
    {
     "name": "stdout",
     "output_type": "stream",
     "text": [
      "<re.Match object; span=(0, 7), match='ba-{}ba'>\n",
      "<re.Match object; span=(3, 8), match='ba-{}'>\n"
     ]
    }
   ],
   "source": [
    "# {,n}\tAny number of repetitions of <regex> less than or equal to n\n",
    "# {m,}\tAny number of repetitions of <regex> greater than or equal to m\n",
    "# {,}\tAny number of repetitions of <regex>\n",
    "# If you omit all of m, n, and the comma, then the curly braces no longer function as metacharacters.\n",
    "# {} matches just the literal string '{}':\n",
    "\n",
    "print(re.search('ba-{}ba','ba-{}ba'))\n",
    "print(re.search('ba-{}','aaaba-{}baaaaa'))\n",
    "\n",
    "# In fact, to have any special meaning, a sequence with curly braces must fit one of the following patterns\n",
    "# in which m and n are nonnegative integers:\n",
    "# {m,n}\n",
    "# {m,}\n",
    "# {,n}\n",
    "# {,}"
   ]
  },
  {
   "cell_type": "code",
   "execution_count": 33,
   "metadata": {},
   "outputs": [
    {
     "name": "stdout",
     "output_type": "stream",
     "text": [
      "<re.Match object; span=(0, 7), match='bammmmm'>\n",
      "<re.Match object; span=(0, 5), match='bammm'>\n"
     ]
    }
   ],
   "source": [
    "# {m,n}?\n",
    "# {m,n} will match as many characters as possible, and {m,n}? will match as few as possible:\n",
    "\n",
    "print(re.search('bam{3,5}','bammmmmmba'))\n",
    "print(re.search('bam{3,5}?','bammmmba'))\n",
    "\n",
    "# In this case, m{3,5} produces the longest possible match, so it matches five 'm' characters.\n",
    "# m{3,5}? produces the shortest match, so it matches three."
   ]
  },
  {
   "cell_type": "code",
   "execution_count": 34,
   "metadata": {},
   "outputs": [
    {
     "name": "stdout",
     "output_type": "stream",
     "text": [
      "<re.Match object; span=(0, 3), match='bam'>\n",
      "<re.Match object; span=(0, 3), match='bam'>\n"
     ]
    }
   ],
   "source": [
    "# Grouping: A group represents a single syntactic entity. Additional metacharacters apply to the entire group as a unit.\n",
    "\n",
    "# (<regex>)\n",
    "# This is the most basic grouping construct. A regex in parentheses just matches the contents of the parentheses:\n",
    "\n",
    "print(re.search('(bam)','bammmmmmba'))\n",
    "print(re.search('bam','bammmmmmba'))\n",
    "\n",
    "# As a regex, (bar) matches the string 'bar', the same as the regex bar would without the parentheses."
   ]
  },
  {
   "cell_type": "code",
   "execution_count": 17,
   "metadata": {},
   "outputs": [
    {
     "name": "stdout",
     "output_type": "stream",
     "text": [
      "<re.Match object; span=(0, 3), match='bam'>\n",
      "<re.Match object; span=(0, 6), match='bambam'>\n",
      "<re.Match object; span=(0, 4), match='abam'>\n",
      "<re.Match object; span=(0, 5), match='bammm'>\n"
     ]
    }
   ],
   "source": [
    "# Treating a Group as a Unit\n",
    "\n",
    "print(re.search('(bam)+','bammmmmmba'))\n",
    "print(re.search('(bam)+','bambam'))\n",
    "print(re.search('(a(bam))?','abambambam'))\n",
    "print(re.search('bam+','bammmbam'))\n",
    "\n",
    "# Here’s a breakdown of the difference between the two regexes with and without grouping parentheses:\n",
    "# bar+ = 'bar', 'barr', 'barrr'     (The + metacharacter applies only to the character 'r'.)\n",
    "# (bar)+ = 'bar', 'barbar', 'barbarbar'(The + metacharacter applies to the entire string 'bar'.)"
   ]
  },
  {
   "cell_type": "code",
   "execution_count": 113,
   "metadata": {},
   "outputs": [
    {
     "name": "stdout",
     "output_type": "stream",
     "text": [
      "['146.204.224.152', '197.109.77.178', '156.127.178.177', '233.187.15.207']\n",
      "['feest6811', 'kertzmann3129', 'okuneva5222', '-']\n",
      "['21/Jun/2019:15:45:24 -0700', '21/Jun/2019:15:45:25 -0700', '21/Jun/2019:15:45:27 -0700', '21/Jun/2019:15:46:14 -0700']\n",
      "['POST /incentivize HTTP/1.1', 'DELETE /virtual/solutions/target/web+services HTTP/2.0', 'DELETE /interactive/transparent/niches/revolutionize HTTP/1.1', 'GET /harness/intuitive HTTP/1.0']\n"
     ]
    }
   ],
   "source": [
    "# coursera problem\n",
    "\n",
    "text = \"\"\"146.204.224.152 - feest6811 [21/Jun/2019:15:45:24 -0700] \"POST /incentivize HTTP/1.1\" 302 4622\n",
    "197.109.77.178 - kertzmann3129 [21/Jun/2019:15:45:25 -0700] \"DELETE /virtual/solutions/target/web+services HTTP/2.0\" 203 26554\n",
    "156.127.178.177 - okuneva5222 [21/Jun/2019:15:45:27 -0700] \"DELETE /interactive/transparent/niches/revolutionize HTTP/1.1\" 416 14701\n",
    "233.187.15.207 - - [21/Jun/2019:15:46:14 -0700] \"GET /harness/intuitive HTTP/1.0\" 304 21006\"\"\"\n",
    "\n",
    "pattern = '.+(?= - )'\n",
    "\n",
    "list = [i.split(' -', 1)[0] for i in re.findall(pattern,text)]\n",
    "print(list)\n",
    "pattern = ' - .*(?= \\[)'\n",
    "\n",
    "list = [i.split(' - ', 1)[1] for i in re.findall(pattern,text)]\n",
    "print(list)\n",
    "pattern = '\\[.*(?=\\])'\n",
    "\n",
    "list = [i.split('[', 1)[1] for i in re.findall(pattern,text)]\n",
    "print(list)\n",
    "pattern = '\\\".*(?=\\\")'\n",
    "\n",
    "list = [i.split('\"', 1)[1] for i in re.findall(pattern,text)]\n",
    "print(list)"
   ]
  },
  {
   "cell_type": "code",
   "execution_count": 12,
   "metadata": {},
   "outputs": [
    {
     "name": "stdout",
     "output_type": "stream",
     "text": [
      "<re.Match object; span=(0, 12), match='bazbarbazbar'>\n",
      "<re.Match object; span=(0, 6), match='barbar'>\n",
      "<re.Match object; span=(6, 21), match='barbazbazbazqux'>\n"
     ]
    }
   ],
   "source": [
    "# Now take a look at a more complicated example.\n",
    "# The regex (ba[rz]){2,4}(qux)? matches 2 to 4 occurrences of either 'bar' or 'baz', optionally followed by 'qux':\n",
    "\n",
    "import re\n",
    "print(re.search('(ba[rz]){2,4}(qux)?', 'bazbarbazbarbarqux'))\n",
    "print(re.search('(ba[rz]){2,4}(qux)?', 'barbar'))\n",
    "print(re.search('(ba[rz]){2,4}qux?', 'barbarbarbazbazbazqux')) # now look carefully. qux is not in (). so this is not optional."
   ]
  },
  {
   "cell_type": "code",
   "execution_count": 14,
   "metadata": {},
   "outputs": [
    {
     "name": "stdout",
     "output_type": "stream",
     "text": [
      "<re.Match object; span=(0, 9), match='foofoobar'>\n"
     ]
    }
   ],
   "source": [
    "# The following example shows that you can nest grouping parentheses:\n",
    "\n",
    "print(re.search('(foo(bar)?)+(\\d\\d\\d)?', 'foofoobarbar'))"
   ]
  },
  {
   "cell_type": "code",
   "execution_count": 10,
   "metadata": {},
   "outputs": [
    {
     "name": "stdout",
     "output_type": "stream",
     "text": [
      "<re.Match object; span=(4, 15), match='quux,baz,sd'>\n",
      "('foo', 'quux')\n"
     ]
    }
   ],
   "source": [
    "#grouping\n",
    "# returns a tuple\n",
    "import re\n",
    "m = re.search('(\\w+),(\\w+),(\\w+)', 'foo.quux,baz,sd')\n",
    "print(m)\n",
    "m = re.search('(\\w+).(\\w+).', 'foo.quux,baz.sd')\n",
    "print(m.groups())"
   ]
  },
  {
   "cell_type": "code",
   "execution_count": 22,
   "metadata": {},
   "outputs": [
    {
     "name": "stdout",
     "output_type": "stream",
     "text": [
      "('quux', 'baz', 'jk')\n",
      "quux,baz,jk\n",
      "quux\n",
      "baz\n"
     ]
    }
   ],
   "source": [
    "# m.group(<n>)\n",
    "\n",
    "# the arguments are one-based, not zero-based. So, m.group(1) refers to the first captured match,\n",
    "# m.group(2) to the second, and so on:\n",
    "\n",
    "m = re.search('(\\w+),(\\w+),(\\w+)', 'foo.quux,baz,jk')\n",
    "\n",
    "print(m.groups()) # entire tuple\n",
    "print(m.group(0)) # all values of the tuple. m.group(0) returns the entire match, and m.group() does the same.\n",
    "print(m.group(1)) # the first value\n",
    "print(m.group(2))"
   ]
  },
  {
   "cell_type": "code",
   "execution_count": 25,
   "metadata": {},
   "outputs": [
    {
     "name": "stdout",
     "output_type": "stream",
     "text": [
      "('quux', 'baz', 'jk')\n",
      "('quux', 'baz')\n",
      "('jk', 'baz', 'quux')\n"
     ]
    }
   ],
   "source": [
    "# m.group(<n1>, <n2>, ...)\n",
    "\n",
    "print(m.groups())\n",
    "print(m.group(1,2))\n",
    "print(m.group(3,2,1))\n"
   ]
  },
  {
   "cell_type": "code",
   "execution_count": 10,
   "metadata": {},
   "outputs": [
    {
     "name": "stdout",
     "output_type": "stream",
     "text": [
      "('foo',)\n"
     ]
    }
   ],
   "source": [
    "# \\<n>\n",
    "import re\n",
    "regex = r'(\\w+),\\1'\n",
    "m = re.search(regex, 'foo,foo,foo')\n",
    "print(m.groups())"
   ]
  },
  {
   "cell_type": "code",
   "execution_count": 8,
   "metadata": {},
   "outputs": [
    {
     "name": "stdout",
     "output_type": "stream",
     "text": [
      "{'title': 'tuba ', 'edit_link': 'ok'}\n",
      "{'title': ' you are ', 'edit_link': 'ok'}\n",
      "{'title': 'now ', 'edit_link': 'ok'}\n",
      "{'title': 'lazy girl ', 'edit_link': 'ok'}\n",
      "{'title': 'tuba ', 'edit_link': 'ok'}\n",
      "{'title': ' you are ', 'edit_link': 'ok'}\n",
      "{'title': 'now ', 'edit_link': 'ok'}\n",
      "{'title': 'lazy girl ', 'edit_link': 'ok'}\n"
     ]
    }
   ],
   "source": [
    "import re\n",
    "wiki = \"tuba ok. you are ok .now ok .lazy girl ok\"\n",
    "for item in re.finditer(\"(?P<title>[\\w ]*)(?P<edit_link>ok)\",wiki):\n",
    "    print(item.groupdict())\n",
    "    \n",
    "pattern = \"\"\" (?P<title>[\\w ]*)\n",
    "(?P<edit_link>ok)\"\"\"\n",
    "\n",
    "for item in re.finditer(pattern,wiki,re.VERBOSE):\n",
    "    \n",
    "    print(item.groupdict())"
   ]
  },
  {
   "cell_type": "code",
   "execution_count": 19,
   "metadata": {},
   "outputs": [
    {
     "name": "stdout",
     "output_type": "stream",
     "text": [
      "['146.204.224.152', '197.109.77.178', '156.127.178.177', '233.187.15.207']\n",
      "['feest6811', 'kertzmann3129', 'okuneva5222', '-']\n",
      "['21/Jun/2019:15:45:24 -0700', '21/Jun/2019:15:45:25 -0700', '21/Jun/2019:15:45:27 -0700', '21/Jun/2019:15:46:14 -0700']\n",
      "['POST /incentivize HTTP/1.1', 'DELETE /virtual/solutions/target/web+services HTTP/2.0', 'DELETE /interactive/transparent/niches/revolutionize HTTP/1.1', 'GET /harness/intuitive HTTP/1.0']\n"
     ]
    }
   ],
   "source": [
    "text = \"\"\"146.204.224.152 - feest6811 [21/Jun/2019:15:45:24 -0700] \"POST /incentivize HTTP/1.1\" 302 4622\n",
    "197.109.77.178 - kertzmann3129 [21/Jun/2019:15:45:25 -0700] \"DELETE /virtual/solutions/target/web+services HTTP/2.0\" 203 26554\n",
    "156.127.178.177 - okuneva5222 [21/Jun/2019:15:45:27 -0700] \"DELETE /interactive/transparent/niches/revolutionize HTTP/1.1\" 416 14701\n",
    "233.187.15.207 - - [21/Jun/2019:15:46:14 -0700] \"GET /harness/intuitive HTTP/1.0\" 304 21006\"\"\"\n",
    "\n",
    "pattern = '.+(?= - )'\n",
    "\n",
    "list = [i.split(' -', 1)[0] for i in re.findall(pattern,text)]\n",
    "print(list)\n",
    "pattern = ' - .*(?= \\[)'\n",
    "\n",
    "list = [i.split(' - ', 1)[1] for i in re.findall(pattern,text)]\n",
    "print(list)\n",
    "pattern = '\\[.*(?=\\])'\n",
    "\n",
    "list = [i.split('[', 1)[1] for i in re.findall(pattern,text)]\n",
    "print(list)\n",
    "pattern = '\\\".*(?=\\\")'\n",
    "\n",
    "list = [i.split('\"', 1)[1] for i in re.findall(pattern,text)]\n",
    "print(list)"
   ]
  },
  {
   "cell_type": "code",
   "execution_count": null,
   "metadata": {},
   "outputs": [],
   "source": [
    "def logs():\n",
    "    logs = []\n",
    "    pattern = '(?P<host>(?:\\d+\\.){3}\\d+)\\s+(?:\\S+)\\s+(?P<user_name>\\S+)\\s+\\[(?P<time>[-+\\w\\s:/]+)\\]\\s+\"(?P<request>.+?.+?)\"'\n",
    "    with open(\"assets/logdata.txt\", \"r\") as f:\n",
    "        logdata = f.read()\n",
    "    for m in re.finditer(pattern, logdata):\n",
    "        logs.append(m.groupdict())\n",
    "    return logs"
   ]
  }
 ],
 "metadata": {
  "kernelspec": {
   "display_name": "Python 3",
   "language": "python",
   "name": "python3"
  },
  "language_info": {
   "codemirror_mode": {
    "name": "ipython",
    "version": 3
   },
   "file_extension": ".py",
   "mimetype": "text/x-python",
   "name": "python",
   "nbconvert_exporter": "python",
   "pygments_lexer": "ipython3",
   "version": "3.8.3"
  }
 },
 "nbformat": 4,
 "nbformat_minor": 4
}
